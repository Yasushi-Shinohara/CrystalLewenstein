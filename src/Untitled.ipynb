{
 "cells": [
  {
   "cell_type": "markdown",
   "metadata": {},
   "source": [
    "## Equation of motion\n",
    "$$\n",
    "\\mathrm{i} \\frac{\\partial}{\\partial t}\\psi_k (t) = \\hat{h}_{k+A(t)}\\psi_k(t)\n",
    "$$\n",
    "\n",
    "## Expansion by the instantaneous eigenfunction of the Hamiltonina\n",
    "$$\n",
    "\\psi_k(t) = \\sum_\\alpha c_{\\alpha k}(t) e^{-\\mathrm{i}\\int_0^t \\! \\mathrm{d}t' \\varepsilon_{\\alpha k}^{(t')}} \\varphi_{\\alpha k}^{(t)},\n",
    "$$\n",
    "\n",
    "$$\n",
    "\\hat{h}_k(t) \\varphi_{\\alpha k}^{(t)} = \\varepsilon_{\\alpha k}^{(t)}  \\varphi_{\\alpha k}^{(t)}\n",
    "$$\n",
    "The coefficient $c_{\\alpha k}^{(t)}$ is expected to be temporary smooth function because the trivial phase factor.\n",
    "\n",
    "## An observable: current density \n",
    "$k$-resolved current density is given as \n",
    "$$\n",
    "j_k(t)=\\frac{1}{V}\\left\\langle \\psi_k (t) \\left| \\hat{p}+A(t) \\right| \\psi_k \\right\\rangle = \\frac{1}{V}\\sum_{\\alpha \\beta} \\left(c_{\\alpha k}(t)\\right)^* c_{\\beta k}(t) e^{\\mathrm{i}\\int_0^t \\! \\mathrm{d}t' \\left[ \\varepsilon_{\\alpha k}^{(t')} - \\varepsilon_{\\beta k}^{(t')} \\right] }\\left\\langle \\varphi_{\\alpha k}^{(t)}  \\left| \\hat{p}+A(t) \\right| \\varphi_{\\beta k}^{(t)} \\right\\rangle\n",
    "$$"
   ]
  },
  {
   "cell_type": "markdown",
   "metadata": {},
   "source": [
    "## Assumptions and approximations\n",
    "We assume that two-bands, valence and conduction, in which former is initially fully occupied.\n",
    "We just concentrate on the off-diagonal component, called interband current,  within the two-bands approximation as \n",
    "$$\n",
    "V j_k^{\\text{inter}}(t) = \\left(c_{v k}(t)\\right)^* c_{c k}(t) e^{\\mathrm{i}\\int_0^t \\! \\mathrm{d}t' \\left[ \\varepsilon_{v k}^{(t')} - \\varepsilon_{c k}^{(t')} \\right] }\\left\\langle \\varphi_{v k}^{(t)}  \\left| \\hat{p} \\right| \\varphi_{c k}^{(t)} \\right\\rangle + \\mathrm{c.c.}.\n",
    "$$\n",
    "\n",
    "We would like to futher approximations, \n",
    "$$\n",
    "c_{vk}(t) \\cong e^{\\mathrm{i}\\theta_k}, c_{ck}(t) \\cong e^{\\mathrm{i}\\vartheta_k}\\times \\delta, \\delta \\ll 1, \\left\\langle \\varphi_{v k}^{(t)}  \\left| \\hat{p} \\right| \\varphi_{c k}^{(t)} \\right\\rangle \\cong p_{vc}\n",
    "$$\n",
    "Thus, we have\n",
    "$$\n",
    "j_k^{\\text{inter}}(t) \\cong \\gamma e^{\\mathrm{i}S_k(t)}p_{vc}, \\quad \\gamma = \\frac{ e^{\\mathrm{i}(\\vartheta_k - \\theta_k)} \\delta}{V}\n",
    "$$\n"
   ]
  },
  {
   "cell_type": "markdown",
   "metadata": {},
   "source": [
    "## Taking Fourier transform\n",
    "$$\n",
    "j_k^{\\text{inter}}(\\omega)   = \\mathcal{F} \\left[ j_k^{\\text{inter}}(t)\\right]\n",
    "$$\n",
    "$$\n",
    "=\\gamma p_vc \\int_{-\\infty}^{\\infty} \\mathrm{d} t e^{-\\mathrm{i}\\left[\\omega t - S_k(t)\\right]}\n",
    "$$"
   ]
  },
  {
   "cell_type": "code",
   "execution_count": null,
   "metadata": {},
   "outputs": [],
   "source": []
  }
 ],
 "metadata": {
  "kernelspec": {
   "display_name": "Python 3",
   "language": "python",
   "name": "python3"
  },
  "language_info": {
   "codemirror_mode": {
    "name": "ipython",
    "version": 3
   },
   "file_extension": ".py",
   "mimetype": "text/x-python",
   "name": "python",
   "nbconvert_exporter": "python",
   "pygments_lexer": "ipython3",
   "version": "3.7.0"
  }
 },
 "nbformat": 4,
 "nbformat_minor": 2
}
